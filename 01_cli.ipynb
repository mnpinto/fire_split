{
 "cells": [
  {
   "cell_type": "code",
   "execution_count": null,
   "metadata": {},
   "outputs": [],
   "source": [
    "# default_exp cli"
   ]
  },
  {
   "cell_type": "markdown",
   "metadata": {},
   "source": [
    "# CLI\n",
    "> Command line scripts."
   ]
  },
  {
   "cell_type": "code",
   "execution_count": null,
   "metadata": {},
   "outputs": [],
   "source": [
    "# hide\n",
    "from nbdev.export import notebook2script"
   ]
  },
  {
   "cell_type": "code",
   "execution_count": null,
   "metadata": {},
   "outputs": [],
   "source": [
    "# export\n",
    "from fastscript import call_parse, Param\n",
    "from pathlib import Path\n",
    "from fire_split.core import *"
   ]
  },
  {
   "cell_type": "code",
   "execution_count": null,
   "metadata": {},
   "outputs": [],
   "source": [
    "# export\n",
    "@call_parse\n",
    "def fire_split_run(\n",
    "    input_path:Param(\"Directory with tif files\", str),\n",
    "    output_path:Param(\"Directory to save outputs\", str),\n",
    "    interval_days:Param(\"Number of days to keep as same event\", int)=16,\n",
    "    interval_pixels:Param(\"Number of n x n buffer pixels\", int)=8,\n",
    "    min_size_pixels:Param(\"Ignore fires smaller than this\", int)=1,\n",
    "    save_tif:Param(\"Save output as tif\", bool)=True,\n",
    "    save_shape:Param(\"Save output as shapefile\", bool)=True):\n",
    "    path = Path(input_path)\n",
    "    out = Path(output_path)\n",
    "    run_all(path, out, interval_days=interval_days, interval_pixels=interval_pixels,\n",
    "            min_size_pixels=min_size_pixels, save_tif=save_tif, save_shape=save_shape)"
   ]
  },
  {
   "cell_type": "code",
   "execution_count": null,
   "metadata": {},
   "outputs": [
    {
     "name": "stdout",
     "output_type": "stream",
     "text": [
      "Converted 00_core.ipynb.\n",
      "Converted 01_cli.ipynb.\n",
      "Converted index.ipynb.\n"
     ]
    }
   ],
   "source": [
    "# hide \n",
    "notebook2script()"
   ]
  }
 ],
 "metadata": {
  "kernelspec": {
   "display_name": "Python (fastai_dev)",
   "language": "python",
   "name": "fastai_dev"
  }
 },
 "nbformat": 4,
 "nbformat_minor": 2
}
