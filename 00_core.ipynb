{
 "cells": [
  {
   "cell_type": "code",
   "execution_count": null,
   "metadata": {},
   "outputs": [],
   "source": [
    "# default_exp core"
   ]
  },
  {
   "cell_type": "markdown",
   "metadata": {},
   "source": [
    "# Fire Split\n",
    "\n",
    "> Split individual fire events from tif files"
   ]
  },
  {
   "cell_type": "code",
   "execution_count": null,
   "metadata": {},
   "outputs": [],
   "source": [
    "# hide\n",
    "from nbdev.export import notebook2script"
   ]
  },
  {
   "cell_type": "code",
   "execution_count": null,
   "metadata": {},
   "outputs": [],
   "source": [
    "# export\n",
    "import rasterio\n",
    "import numpy as np\n",
    "from tqdm import tqdm\n",
    "import scipy.ndimage as ndimage\n",
    "import matplotlib.pyplot as plt\n",
    "from pathlib import Path\n",
    "import pandas as pd"
   ]
  },
  {
   "cell_type": "code",
   "execution_count": null,
   "metadata": {},
   "outputs": [],
   "source": [
    "# export\n",
    "def read_data(filename):\n",
    "    data = rasterio.open(filename)\n",
    "    meta = data.meta\n",
    "    data = data.read().squeeze()\n",
    "    data[data<0] = 0\n",
    "    return data, meta\n",
    "\n",
    "def save_data(filename, raster, meta):\n",
    "    meta['nodata'] = 0\n",
    "    meta['dtype'] = 'uint32'\n",
    "    with rasterio.open(filename, 'w', **meta) as dst:\n",
    "        dst.write(raster[None].astype('uint32'))\n",
    "\n",
    "def split_fires(data, interval_days=8):\n",
    "    data = data.astype(np.uint32)\n",
    "\n",
    "    labels, _ = ndimage.label(data > 0, structure=np.ones((3,3)))\n",
    "\n",
    "    unique_pairs = np.unique(np.array((data, labels), dtype=np.uint32).reshape(2,-1), axis=1)\n",
    "\n",
    "    df = pd.DataFrame({'date': unique_pairs[0], 'label': unique_pairs[1]})\n",
    "    df_overlap = df.groupby('label').agg(lambda x : len(x))\n",
    "    overlap_index = df_overlap.loc[df_overlap.date>1].index\n",
    "    df = df.groupby('label').agg(lambda x : np.array(x))\n",
    "    df = df.loc[overlap_index]\n",
    "\n",
    "    df['splits'] = [np.diff(df.iloc[i].date) > interval_days for i in range(len(df))]\n",
    "\n",
    "    for k in range(len(df)):\n",
    "        df_row = df.iloc[k]\n",
    "        for i, s in enumerate(df_row.splits):\n",
    "            if s:\n",
    "                split1 = df_row.date[i]\n",
    "                split2 = df_row.date[i+1]\n",
    "                I1 = (labels==df_row.name) & (data==split1)\n",
    "                I2 = (labels==df_row.name) & (data==split2)\n",
    "                l1, _ = ndimage.label(I1, structure=np.ones((3,3)))\n",
    "                l2, _ = ndimage.label(I2, structure=np.ones((3,3)))\n",
    "                l1[l1>0] += labels.max()\n",
    "                labels[I1] = l1[I1]\n",
    "                l2[l2>0] += labels.max()\n",
    "                labels[I2] = l2[I2]\n",
    "\n",
    "    labels2 = np.zeros_like(labels)\n",
    "    rand_labels = np.random.permutation(list(range(len(np.unique(labels)[1:]))))\n",
    "    for i, l in enumerate(np.unique(labels)[1:]):\n",
    "        labels2[labels==l] = rand_labels[i]\n",
    "    return labels2\n",
    "\n",
    "def run_all(input_path, save_path, interval_days=8):\n",
    "    if input_path.is_dir():\n",
    "        files = list(path.iterdir())\n",
    "        files = [f for f in files if 'tif' in f.suffix]\n",
    "    else:\n",
    "        files = [input_path]\n",
    "    \n",
    "    for f in tqdm(files):\n",
    "        fsave = save_path/f'{f.stem}_labels.tif'\n",
    "        data, meta = read_data(f)\n",
    "        labels = split_fires(data, interval_days=interval_days)\n",
    "        save_data(fsave, labels, meta)"
   ]
  },
  {
   "cell_type": "code",
   "execution_count": null,
   "metadata": {},
   "outputs": [
    {
     "name": "stdout",
     "output_type": "stream",
     "text": [
      "Converted 00_core.ipynb.\n",
      "Converted 01_cli.ipynb.\n",
      "Converted index.ipynb.\n"
     ]
    }
   ],
   "source": [
    "# hide\n",
    "notebook2script()"
   ]
  }
 ],
 "metadata": {
  "kernelspec": {
   "display_name": "Python (fastai_dev)",
   "language": "python",
   "name": "fastai_dev"
  }
 },
 "nbformat": 4,
 "nbformat_minor": 2
}
